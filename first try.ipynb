{
    "cells": [
        {
            "cell_type": "code",
            "execution_count": null,
            "metadata": {
                "collapsed": true
            },
            "outputs": [],
            "source": "%%writefile irisapp.py\n\nimport streamlit as st\nimport pandas as pd\nfrom sklearn import datasets\nfrom sklearn.ensemble import RandomForestClassifier\n\nst.write(\"\"\"\n# Simple Iris Flower Prediction App\n\nThis app predicts the **Iris flower** type!\n\"\"\")\n\nst.sidebar.header('User Input Parameters')\n\ndef user_input_features():\n    sepal_length = st.sidebar.slider('Sepal length', 4.3, 7.9, 5.4)\n    sepal_width = st.sidebar.slider('Sepal width', 2.0, 4.4, 3.4)\n    petal_length = st.sidebar.slider('Petal length', 1.0, 6.9, 1.3)\n    petal_width = st.sidebar.slider('Petal width', 0.1, 2.5, 0.2)\n    data = {'sepal_length': sepal_length,\n            'sepal_width': sepal_width,\n            'petal_length': petal_length,\n            'petal_width': petal_width}\n    features = pd.DataFrame(data, index=[0])\n    return features\n\ndf = user_input_features()\n\nst.subheader('User Input parameters')\nst.write(df)\n\niris = datasets.load_iris()\nX = iris.data\nY = iris.target\n\nclf = RandomForestClassifier()\nclf.fit(X, Y)\n\nprediction = clf.predict(df)\nprediction_proba = clf.predict_proba(df)\n\nst.subheader('Class labels and their corresponding index number')\nst.write(iris.target_names)\n\nst.subheader('Prediction')\nst.write(iris.target_names[prediction])\n#st.write(prediction)\n\nst.subheader('Prediction Probability')\nst.write(prediction_proba)\n"
        }
    ],
    "metadata": {
        "kernelspec": {
            "display_name": "Python 3.8 Watson NLP",
            "language": "python",
            "name": "python3"
        },
        "language_info": {
            "codemirror_mode": {
                "name": "ipython",
                "version": 3
            },
            "file_extension": ".py",
            "mimetype": "text/x-python",
            "name": "python",
            "nbconvert_exporter": "python",
            "pygments_lexer": "ipython3",
            "version": "3.8.11"
        }
    },
    "nbformat": 4,
    "nbformat_minor": 1
}